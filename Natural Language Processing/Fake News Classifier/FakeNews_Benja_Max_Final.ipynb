{
 "cells": [
  {
   "cell_type": "markdown",
   "metadata": {},
   "source": [
    "# NLP Fake News Detection\n",
    "# Benjamin Chumaceiro and Max Franco"
   ]
  },
  {
   "cell_type": "code",
   "execution_count": null,
   "metadata": {
    "colab": {
     "base_uri": "https://localhost:8080/",
     "height": 122
    },
    "colab_type": "code",
    "id": "X6AyCWwa4ElJ",
    "outputId": "a53dbda3-f629-46b9-917e-8c2cf4c7c02c"
   },
   "outputs": [
    {
     "name": "stdout",
     "output_type": "stream",
     "text": [
      "Go to this URL in a browser: https://accounts.google.com/o/oauth2/auth?client_id=947318989803-6bn6qk8qdgf4n4g3pfee6491hc0brc4i.apps.googleusercontent.com&redirect_uri=urn%3aietf%3awg%3aoauth%3a2.0%3aoob&response_type=code&scope=email%20https%3a%2f%2fwww.googleapis.com%2fauth%2fdocs.test%20https%3a%2f%2fwww.googleapis.com%2fauth%2fdrive%20https%3a%2f%2fwww.googleapis.com%2fauth%2fdrive.photos.readonly%20https%3a%2f%2fwww.googleapis.com%2fauth%2fpeopleapi.readonly\n",
      "\n",
      "Enter your authorization code:\n",
      "··········\n",
      "Mounted at /content/drive\n"
     ]
    }
   ],
   "source": [
    "from google.colab import drive\n",
    "drive.mount('/content/drive')"
   ]
  },
  {
   "cell_type": "code",
   "execution_count": null,
   "metadata": {
    "colab": {},
    "colab_type": "code",
    "id": "KS9a5I626bAS"
   },
   "outputs": [],
   "source": [
    "import pandas as pd\n",
    "from sklearn.feature_extraction.text import TfidfVectorizer\n",
    "import spacy\n",
    "from spacy.lang.en import English\n",
    "import re\n",
    "import matplotlib.pyplot as plt\n",
    "import seaborn as sns\n",
    "from sklearn.preprocessing import MinMaxScaler\n",
    "from sklearn.model_selection import train_test_split\n",
    "from sklearn import metrics\n",
    "from sklearn.naive_bayes import MultinomialNB\n",
    "from sklearn import svm\n",
    "from nltk.stem import WordNetLemmatizer \n",
    "import numpy as np"
   ]
  },
  {
   "cell_type": "code",
   "execution_count": null,
   "metadata": {
    "colab": {},
    "colab_type": "code",
    "id": "dr32JAw36bAi"
   },
   "outputs": [],
   "source": [
    "nlp = spacy.load('en_core_web_sm')"
   ]
  },
  {
   "cell_type": "code",
   "execution_count": null,
   "metadata": {
    "colab": {},
    "colab_type": "code",
    "id": "D7faqSSg6bAw"
   },
   "outputs": [],
   "source": [
    "#Import Data\n",
    "train = pd.read_csv(\"/content/drive/My Drive/Colab Notebooks/NLP/fake_or_real_news_training.csv\")\n",
    "test = pd.read_csv(\"/content/drive/My Drive/Colab Notebooks/NLP/fake_or_real_news_test.csv\")"
   ]
  },
  {
   "cell_type": "code",
   "execution_count": null,
   "metadata": {
    "colab": {
     "base_uri": "https://localhost:8080/",
     "height": 204
    },
    "colab_type": "code",
    "id": "4lxm8_3M6bA1",
    "outputId": "c3ee9bb9-e6cc-4810-a967-46410d6a1e40"
   },
   "outputs": [
    {
     "name": "stdout",
     "output_type": "stream",
     "text": [
      "<class 'pandas.core.frame.DataFrame'>\n",
      "RangeIndex: 3999 entries, 0 to 3998\n",
      "Data columns (total 6 columns):\n",
      "ID       3999 non-null int64\n",
      "title    3999 non-null object\n",
      "text     3999 non-null object\n",
      "label    3999 non-null object\n",
      "X1       33 non-null object\n",
      "X2       2 non-null object\n",
      "dtypes: int64(1), object(5)\n",
      "memory usage: 187.6+ KB\n"
     ]
    }
   ],
   "source": [
    "#checking columns\n",
    "train.info()"
   ]
  },
  {
   "cell_type": "code",
   "execution_count": null,
   "metadata": {
    "colab": {
     "base_uri": "https://localhost:8080/",
     "height": 153
    },
    "colab_type": "code",
    "id": "wnJS--9R6bA9",
    "outputId": "1a9c48d3-b7d9-428c-88bc-fcec705f2ca6"
   },
   "outputs": [
    {
     "name": "stdout",
     "output_type": "stream",
     "text": [
      "<class 'pandas.core.frame.DataFrame'>\n",
      "RangeIndex: 2321 entries, 0 to 2320\n",
      "Data columns (total 3 columns):\n",
      "ID       2321 non-null int64\n",
      "title    2321 non-null object\n",
      "text     2321 non-null object\n",
      "dtypes: int64(1), object(2)\n",
      "memory usage: 54.5+ KB\n"
     ]
    }
   ],
   "source": [
    "#checking columns\n",
    "test.info()"
   ]
  },
  {
   "cell_type": "markdown",
   "metadata": {
    "colab_type": "text",
    "id": "ntIYdoE76bBE"
   },
   "source": [
    "# Cleaning Train set"
   ]
  },
  {
   "cell_type": "markdown",
   "metadata": {
    "colab_type": "text",
    "id": "nRMkZ1u66bBF"
   },
   "source": [
    "We checked why we have the 2 extra columns in train set"
   ]
  },
  {
   "cell_type": "code",
   "execution_count": null,
   "metadata": {
    "colab": {
     "base_uri": "https://localhost:8080/",
     "height": 204
    },
    "colab_type": "code",
    "id": "roiQJ9CL6bBG",
    "outputId": "b68532fc-0910-4e61-9c48-588e46a64f68"
   },
   "outputs": [
    {
     "name": "stdout",
     "output_type": "stream",
     "text": [
      "<class 'pandas.core.frame.DataFrame'>\n",
      "Int64Index: 33 entries, 192 to 3706\n",
      "Data columns (total 6 columns):\n",
      "ID       33 non-null int64\n",
      "title    33 non-null object\n",
      "text     33 non-null object\n",
      "label    33 non-null object\n",
      "X1       33 non-null object\n",
      "X2       2 non-null object\n",
      "dtypes: int64(1), object(5)\n",
      "memory usage: 1.8+ KB\n"
     ]
    }
   ],
   "source": [
    "train[(pd.notnull(train['X1'])) | (pd.notnull(train['X2']))].info()"
   ]
  },
  {
   "cell_type": "markdown",
   "metadata": {
    "colab_type": "text",
    "id": "2xBBw5Q16bBL"
   },
   "source": [
    "Since there are only 33 rows which have this issue, we decided to drop them\n",
    " "
   ]
  },
  {
   "cell_type": "code",
   "execution_count": null,
   "metadata": {
    "colab": {},
    "colab_type": "code",
    "id": "b3s4uaTG7ger"
   },
   "outputs": [],
   "source": [
    "#drop rows with issues\n",
    "train = train.drop(train[(train[\"label\"] != \"REAL\") & (train[\"label\"] != \"FAKE\")].index)\n",
    "#drop columns X1 & X2\n",
    "train = train.drop(columns=[\"X1\",\"X2\"])\n"
   ]
  },
  {
   "cell_type": "code",
   "execution_count": null,
   "metadata": {
    "colab": {
     "base_uri": "https://localhost:8080/",
     "height": 173
    },
    "colab_type": "code",
    "id": "4L-ZHWNbApus",
    "outputId": "17dbf120-d191-4ac3-8f97-d8c2ef0efa6d"
   },
   "outputs": [
    {
     "name": "stderr",
     "output_type": "stream",
     "text": [
      "/usr/local/lib/python3.6/dist-packages/ipykernel_launcher.py:1: FutureWarning: Sorting because non-concatenation axis is not aligned. A future version\n",
      "of pandas will change to not sort by default.\n",
      "\n",
      "To accept the future behavior, pass 'sort=False'.\n",
      "\n",
      "To retain the current behavior and silence the warning, pass 'sort=True'.\n",
      "\n",
      "  \"\"\"Entry point for launching an IPython kernel.\n"
     ]
    }
   ],
   "source": [
    "#Concatenate Datasets in order to do feature engineering\n",
    "df = pd.concat([train, test])"
   ]
  },
  {
   "cell_type": "markdown",
   "metadata": {},
   "source": [
    "## Exploration Data Analysis"
   ]
  },
  {
   "cell_type": "code",
   "execution_count": 17,
   "metadata": {},
   "outputs": [
    {
     "data": {
      "text/plain": [
       "(array([  7.,  21.,  47., 120., 199., 238., 287., 276., 268., 207., 142.,\n",
       "         76.,  38.,  35.,   8.,  10.,   7.,   1.,   2.,   1.]),\n",
       " array([ 10. ,  16.9,  23.8,  30.7,  37.6,  44.5,  51.4,  58.3,  65.2,\n",
       "         72.1,  79. ,  85.9,  92.8,  99.7, 106.6, 113.5, 120.4, 127.3,\n",
       "        134.2, 141.1, 148. ]),\n",
       " <a list of 20 Patch objects>)"
      ]
     },
     "execution_count": 17,
     "metadata": {},
     "output_type": "execute_result"
    },
    {
     "data": {
      "image/png": "[encoded data removed]",
      "text/plain": [
       "<Figure size 1440x720 with 1 Axes>"
      ]
     },
     "metadata": {
      "needs_background": "light"
     },
     "output_type": "display_data"
    }
   ],
   "source": [
    "# Explorating and analysing title lenght\n",
    "train[\"title_len\"] = train[\"title\"].apply(lambda x: len(x))\n",
    "plt.figure(figsize=(20,10))\n",
    "plt.hist(train.loc[train.label==\"FAKE\",:][\"title_len\"],bins=20,color = \"skyblue\")\n",
    "plt.hist(train.loc[train.label==\"REAL\",:][\"title_len\"],bins=20, color = \"LightGreen\")"
   ]
  },
  {
   "cell_type": "markdown",
   "metadata": {},
   "source": [
    "We can detect the diference of lenght between the fake and Real titles of News"
   ]
  },
  {
   "cell_type": "code",
   "execution_count": 18,
   "metadata": {},
   "outputs": [
    {
     "data": {
      "text/plain": [
       "count    1976.000000\n",
       "mean       69.628036\n",
       "std        27.490183\n",
       "min         1.000000\n",
       "25%        52.000000\n",
       "50%        68.000000\n",
       "75%        84.000000\n",
       "max       289.000000\n",
       "Name: title_len, dtype: float64"
      ]
     },
     "execution_count": 18,
     "metadata": {},
     "output_type": "execute_result"
    }
   ],
   "source": [
    "(train.loc[train.label==\"FAKE\",:][\"title_len\"]).describe()"
   ]
  },
  {
   "cell_type": "code",
   "execution_count": 23,
   "metadata": {},
   "outputs": [
    {
     "data": {
      "text/plain": [
       "count    1990.000000\n",
       "mean       61.088442\n",
       "std        18.946545\n",
       "min        10.000000\n",
       "25%        48.000000\n",
       "50%        60.000000\n",
       "75%        73.000000\n",
       "max       148.000000\n",
       "Name: title_len, dtype: float64"
      ]
     },
     "execution_count": 23,
     "metadata": {},
     "output_type": "execute_result"
    }
   ],
   "source": [
    "(train.loc[train.label==\"REAL\",:][\"title_len\"]).describe()"
   ]
  },
  {
   "cell_type": "code",
   "execution_count": 19,
   "metadata": {},
   "outputs": [
    {
     "data": {
      "text/plain": [
       "(array([  7.,  21.,  47., 120., 199., 238., 287., 276., 268., 207., 142.,\n",
       "         76.,  38.,  35.,   8.,  10.,   7.,   1.,   2.,   1.]),\n",
       " array([ 10. ,  16.9,  23.8,  30.7,  37.6,  44.5,  51.4,  58.3,  65.2,\n",
       "         72.1,  79. ,  85.9,  92.8,  99.7, 106.6, 113.5, 120.4, 127.3,\n",
       "        134.2, 141.1, 148. ]),\n",
       " <a list of 20 Patch objects>)"
      ]
     },
     "execution_count": 19,
     "metadata": {},
     "output_type": "execute_result"
    },
    {
     "data": {
      "image/png": "[encoded data removed]",
      "text/plain": [
       "<Figure size 1440x720 with 1 Axes>"
      ]
     },
     "metadata": {
      "needs_background": "light"
     },
     "output_type": "display_data"
    }
   ],
   "source": [
    "# Explorating Text lenght\n",
    "train[\"Text_len\"] = train[\"text\"].apply(lambda x: len(x))\n",
    "plt.figure(figsize=(20,10))\n",
    "plt.hist(train.loc[train.label==\"FAKE\",:][\"title_len\"],bins=20,color = \"skyblue\")\n",
    "plt.hist(train.loc[train.label==\"REAL\",:][\"title_len\"],bins=20, color = \"LightGreen\")"
   ]
  },
  {
   "cell_type": "code",
   "execution_count": 21,
   "metadata": {},
   "outputs": [
    {
     "data": {
      "text/plain": [
       "count     1976.000000\n",
       "mean      4110.713057\n",
       "std       5227.128775\n",
       "min          1.000000\n",
       "25%       1337.750000\n",
       "50%       2616.500000\n",
       "75%       5094.500000\n",
       "max      65535.000000\n",
       "Name: Text_len, dtype: float64"
      ]
     },
     "execution_count": 21,
     "metadata": {},
     "output_type": "execute_result"
    }
   ],
   "source": [
    "(train.loc[train.label==\"FAKE\",:][\"Text_len\"]).describe()"
   ]
  },
  {
   "cell_type": "code",
   "execution_count": 24,
   "metadata": {},
   "outputs": [
    {
     "data": {
      "text/plain": [
       "count     1990.000000\n",
       "mean      5294.017085\n",
       "std       4475.013151\n",
       "min         43.000000\n",
       "25%       2706.000000\n",
       "50%       4694.000000\n",
       "75%       6825.500000\n",
       "max      44039.000000\n",
       "Name: Text_len, dtype: float64"
      ]
     },
     "execution_count": 24,
     "metadata": {},
     "output_type": "execute_result"
    }
   ],
   "source": [
    "(train.loc[train.label==\"REAL\",:][\"Text_len\"]).describe()"
   ]
  },
  {
   "cell_type": "markdown",
   "metadata": {},
   "source": [
    "We can detect that fake and Real news have different lengths. Both max lengths differ, fake news usually have a higher length. "
   ]
  },
  {
   "cell_type": "markdown",
   "metadata": {
    "colab_type": "text",
    "id": "hWzCGbPYGrbR"
   },
   "source": [
    "## Preprocessing MODEL 1"
   ]
  },
  {
   "cell_type": "code",
   "execution_count": null,
   "metadata": {
    "colab": {
     "base_uri": "https://localhost:8080/",
     "height": 204
    },
    "colab_type": "code",
    "id": "dnWODkS2N62b",
    "outputId": "6c57c529-8269-4913-90ff-9cf05afff0bc"
   },
   "outputs": [
    {
     "data": {
      "text/html": [
       "<div>\n",
       "<style scoped>\n",
       "    .dataframe tbody tr th:only-of-type {\n",
       "        vertical-align: middle;\n",
       "    }\n",
       "\n",
       "    .dataframe tbody tr th {\n",
       "        vertical-align: top;\n",
       "    }\n",
       "\n",
       "    .dataframe thead th {\n",
       "        text-align: right;\n",
       "    }\n",
       "</style>\n",
       "<table border=\"1\" class=\"dataframe\">\n",
       "  <thead>\n",
       "    <tr style=\"text-align: right;\">\n",
       "      <th></th>\n",
       "      <th>ID</th>\n",
       "      <th>title</th>\n",
       "      <th>text</th>\n",
       "      <th>label</th>\n",
       "    </tr>\n",
       "  </thead>\n",
       "  <tbody>\n",
       "    <tr>\n",
       "      <th>0</th>\n",
       "      <td>8476</td>\n",
       "      <td>You Can Smell Hillary’s Fear</td>\n",
       "      <td>Daniel Greenfield, a Shillman Journalism Fello...</td>\n",
       "      <td>FAKE</td>\n",
       "    </tr>\n",
       "    <tr>\n",
       "      <th>1</th>\n",
       "      <td>10294</td>\n",
       "      <td>Watch The Exact Moment Paul Ryan Committed Pol...</td>\n",
       "      <td>Google Pinterest Digg Linkedin Reddit Stumbleu...</td>\n",
       "      <td>FAKE</td>\n",
       "    </tr>\n",
       "    <tr>\n",
       "      <th>2</th>\n",
       "      <td>3608</td>\n",
       "      <td>Kerry to go to Paris in gesture of sympathy</td>\n",
       "      <td>U.S. Secretary of State John F. Kerry said Mon...</td>\n",
       "      <td>REAL</td>\n",
       "    </tr>\n",
       "    <tr>\n",
       "      <th>3</th>\n",
       "      <td>10142</td>\n",
       "      <td>Bernie supporters on Twitter erupt in anger ag...</td>\n",
       "      <td>— Kaydee King (@KaydeeKing) November 9, 2016 T...</td>\n",
       "      <td>FAKE</td>\n",
       "    </tr>\n",
       "    <tr>\n",
       "      <th>4</th>\n",
       "      <td>875</td>\n",
       "      <td>The Battle of New York: Why This Primary Matters</td>\n",
       "      <td>It's primary day in New York and front-runners...</td>\n",
       "      <td>REAL</td>\n",
       "    </tr>\n",
       "  </tbody>\n",
       "</table>\n",
       "</div>"
      ],
      "text/plain": [
       "      ID  ... label\n",
       "0   8476  ...  FAKE\n",
       "1  10294  ...  FAKE\n",
       "2   3608  ...  REAL\n",
       "3  10142  ...  FAKE\n",
       "4    875  ...  REAL\n",
       "\n",
       "[5 rows x 4 columns]"
      ]
     },
     "execution_count": 13,
     "metadata": {
      "tags": []
     },
     "output_type": "execute_result"
    }
   ],
   "source": [
    "train.head()"
   ]
  },
  {
   "cell_type": "code",
   "execution_count": null,
   "metadata": {
    "colab": {
     "base_uri": "https://localhost:8080/",
     "height": 102
    },
    "colab_type": "code",
    "id": "a8ZIseXGONyL",
    "outputId": "6e597fe1-500f-44d4-d181-c7505e5304f2"
   },
   "outputs": [
    {
     "data": {
      "text/plain": [
       "count     3966\n",
       "unique       2\n",
       "top       REAL\n",
       "freq      1990\n",
       "Name: label, dtype: object"
      ]
     },
     "execution_count": 14,
     "metadata": {
      "tags": []
     },
     "output_type": "execute_result"
    }
   ],
   "source": [
    "# Create a series to store the labels: y\n",
    "y = train[\"label\"]\n",
    "y.describe()"
   ]
  },
  {
   "cell_type": "code",
   "execution_count": null,
   "metadata": {
    "colab": {},
    "colab_type": "code",
    "id": "9Ou5X0Sjkeyd"
   },
   "outputs": [],
   "source": [
    "# Create training and test sets\n",
    "X_train, X_test, y_train, y_test = train_test_split(train, y, test_size=0.2, random_state=53)"
   ]
  },
  {
   "cell_type": "code",
   "execution_count": null,
   "metadata": {
    "colab": {},
    "colab_type": "code",
    "id": "dey_lBHfOdn4"
   },
   "outputs": [],
   "source": [
    "# Initialize a TfidfVectorizer object: tfidf_vectorizer\n",
    "tfidf_vectorizer_TEXT = TfidfVectorizer(stop_words=\"english\", max_df=0.7)\n",
    "tfidf_vectorizer_TITLE = TfidfVectorizer(stop_words=\"english\", max_df=0.7)"
   ]
  },
  {
   "cell_type": "code",
   "execution_count": null,
   "metadata": {
    "colab": {},
    "colab_type": "code",
    "id": "L__2xrfiOk9b"
   },
   "outputs": [],
   "source": [
    "# Transform the training data: tfidf_train \n",
    "tfidf_train_TEXT = tfidf_vectorizer_TEXT.fit_transform(X_train[\"text\"])\n",
    "tfidf_train_TITLE = tfidf_vectorizer_TITLE.fit_transform(X_train[\"title\"])"
   ]
  },
  {
   "cell_type": "code",
   "execution_count": null,
   "metadata": {
    "colab": {},
    "colab_type": "code",
    "id": "Yau6xVYDPYp_"
   },
   "outputs": [],
   "source": [
    "# Transform the test data: tfidf_test \n",
    "tfidf_test_TEXT = tfidf_vectorizer_TEXT.transform(X_test[\"text\"])\n",
    "tfidf_test_TITLE = tfidf_vectorizer_TITLE.transform(X_test[\"title\"])"
   ]
  },
  {
   "cell_type": "code",
   "execution_count": null,
   "metadata": {
    "colab": {},
    "colab_type": "code",
    "id": "X2N8-23rkey-"
   },
   "outputs": [],
   "source": [
    "# Create the TfidfVectorizer DataFrame: tfidf_df\n",
    "tfidf_df_TEXT = pd.DataFrame(tfidf_train_TEXT.A, columns=tfidf_vectorizer_TEXT.get_feature_names())\n",
    "tfidf_df_TITLE = pd.DataFrame(tfidf_train_TITLE.A, columns=tfidf_vectorizer_TITLE.get_feature_names())"
   ]
  },
  {
   "cell_type": "code",
   "execution_count": 78,
   "metadata": {
    "colab": {
     "base_uri": "https://localhost:8080/",
     "height": 102
    },
    "colab_type": "code",
    "id": "LEx96BtEkezD",
    "outputId": "7585806a-b3e5-4da8-824e-4f56e7dea84a"
   },
   "outputs": [
    {
     "name": "stdout",
     "output_type": "stream",
     "text": [
      "<class 'pandas.core.frame.DataFrame'>\n",
      "RangeIndex: 3172 entries, 0 to 3171\n",
      "Columns: 57144 entries, 00 to zulu\n",
      "dtypes: float64(57144)\n",
      "memory usage: 1.4 GB\n"
     ]
    }
   ],
   "source": [
    "#MERGE training data sets\n",
    "training_ds = pd.concat([tfidf_df_TEXT, tfidf_df_TITLE], axis=1)\n",
    "training_ds.info()"
   ]
  },
  {
   "cell_type": "code",
   "execution_count": null,
   "metadata": {
    "colab": {},
    "colab_type": "code",
    "id": "-HtiFZ6FkezI"
   },
   "outputs": [],
   "source": [
    "# Create the TfidfVectorizer DataFrame: tfidf_Xtest\n",
    "tfidf_Xtest_TEXT = pd.DataFrame(tfidf_test_TEXT.A, columns=tfidf_vectorizer_TEXT.get_feature_names())\n",
    "tfidf_Xtest_TITLE = pd.DataFrame(tfidf_test_TITLE.A, columns=tfidf_vectorizer_TITLE.get_feature_names())"
   ]
  },
  {
   "cell_type": "code",
   "execution_count": 80,
   "metadata": {
    "colab": {
     "base_uri": "https://localhost:8080/",
     "height": 102
    },
    "colab_type": "code",
    "id": "WMCuhsPPkezM",
    "outputId": "da33b87b-e226-42fe-b5be-30a7ac9357cb"
   },
   "outputs": [
    {
     "name": "stdout",
     "output_type": "stream",
     "text": [
      "<class 'pandas.core.frame.DataFrame'>\n",
      "RangeIndex: 794 entries, 0 to 793\n",
      "Columns: 57144 entries, 00 to zulu\n",
      "dtypes: float64(57144)\n",
      "memory usage: 346.2 MB\n"
     ]
    }
   ],
   "source": [
    "#MERGE training data sets\n",
    "testing_ds = pd.concat([tfidf_Xtest_TEXT, tfidf_Xtest_TITLE], axis=1)\n",
    "testing_ds.info()"
   ]
  },
  {
   "cell_type": "markdown",
   "metadata": {
    "colab_type": "text",
    "id": "tIaOttlVkezW"
   },
   "source": [
    "## NAIVES BAYES"
   ]
  },
  {
   "cell_type": "code",
   "execution_count": null,
   "metadata": {
    "colab": {},
    "colab_type": "code",
    "id": "HpbmOL00PdEr"
   },
   "outputs": [],
   "source": [
    "# Instantiate a Multinomial Naive Bayes classifier: nb_classifier\n",
    "nb_classifier = MultinomialNB(alpha=0.1)"
   ]
  },
  {
   "cell_type": "code",
   "execution_count": 82,
   "metadata": {
    "colab": {
     "base_uri": "https://localhost:8080/",
     "height": 34
    },
    "colab_type": "code",
    "id": "_2ojajQnPnR_",
    "outputId": "2321e7d1-24c5-418e-92e8-ad9dbed7c864"
   },
   "outputs": [
    {
     "data": {
      "text/plain": [
       "MultinomialNB(alpha=0.1, class_prior=None, fit_prior=True)"
      ]
     },
     "execution_count": 82,
     "metadata": {
      "tags": []
     },
     "output_type": "execute_result"
    }
   ],
   "source": [
    "# Fit the classifier to the training data\n",
    "nb_classifier.fit(training_ds, y_train)"
   ]
  },
  {
   "cell_type": "code",
   "execution_count": null,
   "metadata": {
    "colab": {},
    "colab_type": "code",
    "id": "Tw-MQAhkP8TC"
   },
   "outputs": [],
   "source": [
    "# Create the predicted tags: pred\n",
    "pred = nb_classifier.predict(testing_ds)"
   ]
  },
  {
   "cell_type": "code",
   "execution_count": 84,
   "metadata": {
    "colab": {
     "base_uri": "https://localhost:8080/",
     "height": 34
    },
    "colab_type": "code",
    "id": "ulnmIHQnQhi2",
    "outputId": "77a4be06-6d0b-4f74-9484-08b3827cc2a7"
   },
   "outputs": [
    {
     "name": "stdout",
     "output_type": "stream",
     "text": [
      "0.8916876574307305\n"
     ]
    }
   ],
   "source": [
    "# Calculate the accuracy score: score\n",
    "score = metrics.accuracy_score(y_test, pred)\n",
    "print(score)"
   ]
  },
  {
   "cell_type": "code",
   "execution_count": 85,
   "metadata": {
    "colab": {
     "base_uri": "https://localhost:8080/",
     "height": 51
    },
    "colab_type": "code",
    "id": "E_nUDBDoQvGr",
    "outputId": "b2f8d5db-32b4-4fdc-dccc-83de8638bc2d"
   },
   "outputs": [
    {
     "name": "stdout",
     "output_type": "stream",
     "text": [
      "[[354  61]\n",
      " [ 25 354]]\n"
     ]
    }
   ],
   "source": [
    "# Calculate the confusion matrix: cm\n",
    "cm = metrics.confusion_matrix(y_test, pred, labels=['FAKE','REAL'])\n",
    "print(cm)"
   ]
  },
  {
   "cell_type": "markdown",
   "metadata": {
    "colab_type": "text",
    "id": "pUsS5m6bke0f"
   },
   "source": [
    "## Improving model with alpha\n"
   ]
  },
  {
   "cell_type": "code",
   "execution_count": null,
   "metadata": {
    "colab": {},
    "colab_type": "code",
    "id": "oo6Y7-m0ke0k"
   },
   "outputs": [],
   "source": [
    "# Create the list of alphas: alphas\n",
    "alphas = np.arange(0,1,0.1)"
   ]
  },
  {
   "cell_type": "code",
   "execution_count": null,
   "metadata": {
    "colab": {},
    "colab_type": "code",
    "id": "6zZDEq6BpuS7"
   },
   "outputs": [],
   "source": [
    "# Define train_and_predict()\n",
    "def train_and_predict(alpha):\n",
    "    # Instantiate the classifier: nb_classifier\n",
    "    nb_classifier = MultinomialNB(alpha=alpha)\n",
    "    # Fit to the training data\n",
    "    nb_classifier.fit(training_ds, y_train)\n",
    "    # Predict the labels: pred\n",
    "    pred = nb_classifier.predict(testing_ds)\n",
    "    # Compute accuracy: score\n",
    "    score = metrics.accuracy_score(y_test, pred)\n",
    "    return score"
   ]
  },
  {
   "cell_type": "code",
   "execution_count": 64,
   "metadata": {
    "colab": {
     "base_uri": "https://localhost:8080/",
     "height": 581
    },
    "colab_type": "code",
    "id": "5Opj0UxUp6sb",
    "outputId": "14b86e28-a091-488a-ea2d-6c0fcc36ad7f"
   },
   "outputs": [
    {
     "name": "stdout",
     "output_type": "stream",
     "text": [
      "Alpha:  0.0\n"
     ]
    },
    {
     "name": "stderr",
     "output_type": "stream",
     "text": [
      "/usr/local/lib/python3.6/dist-packages/sklearn/naive_bayes.py:507: UserWarning: alpha too small will result in numeric errors, setting alpha = 1.0e-10\n",
      "  'setting alpha = %.1e' % _ALPHA_MIN)\n"
     ]
    },
    {
     "name": "stdout",
     "output_type": "stream",
     "text": [
      "Score:  0.8337531486146096\n",
      "\n",
      "Alpha:  0.1\n",
      "Score:  0.8916876574307305\n",
      "\n",
      "Alpha:  0.2\n",
      "Score:  0.8803526448362721\n",
      "\n",
      "Alpha:  0.30000000000000004\n",
      "Score:  0.8702770780856424\n",
      "\n",
      "Alpha:  0.4\n",
      "Score:  0.8677581863979849\n",
      "\n",
      "Alpha:  0.5\n",
      "Score:  0.8614609571788413\n",
      "\n",
      "Alpha:  0.6000000000000001\n",
      "Score:  0.8488664987405542\n",
      "\n",
      "Alpha:  0.7000000000000001\n",
      "Score:  0.8425692695214105\n",
      "\n",
      "Alpha:  0.8\n",
      "Score:  0.8400503778337531\n",
      "\n",
      "Alpha:  0.9\n",
      "Score:  0.8287153652392947\n",
      "\n"
     ]
    }
   ],
   "source": [
    "# Iterate over the alphas and print the corresponding score\n",
    "for alpha in alphas:\n",
    "    print('Alpha: ', alpha)\n",
    "    print('Score: ', train_and_predict(alpha))\n",
    "    print()"
   ]
  },
  {
   "cell_type": "markdown",
   "metadata": {
    "colab_type": "text",
    "id": "_8ie0rtfrihh"
   },
   "source": [
    "## SVM"
   ]
  },
  {
   "cell_type": "code",
   "execution_count": null,
   "metadata": {
    "colab": {},
    "colab_type": "code",
    "id": "CEL7MI8-ke0L"
   },
   "outputs": [],
   "source": [
    "# Instantiate SVM\n",
    "clf = svm.SVC()"
   ]
  },
  {
   "cell_type": "code",
   "execution_count": null,
   "metadata": {
    "colab": {},
    "colab_type": "code",
    "id": "u7QzXJRdke0O"
   },
   "outputs": [],
   "source": [
    "# Fit the classifier to the training data\n",
    "svm_classifier = clf.fit(training_ds, y_train)"
   ]
  },
  {
   "cell_type": "code",
   "execution_count": null,
   "metadata": {
    "colab": {},
    "colab_type": "code",
    "id": "JeJxp6iMke0R"
   },
   "outputs": [],
   "source": [
    "# Create the predicted tags: pred\n",
    "pred1= clf.predict(testing_ds)"
   ]
  },
  {
   "cell_type": "code",
   "execution_count": 47,
   "metadata": {
    "colab": {
     "base_uri": "https://localhost:8080/",
     "height": 34
    },
    "colab_type": "code",
    "id": "UrGtfqZXke0W",
    "outputId": "63b8aa16-3cb4-45fd-8a7e-f6170fc048f0"
   },
   "outputs": [
    {
     "name": "stdout",
     "output_type": "stream",
     "text": [
      "0.9130982367758187\n"
     ]
    }
   ],
   "source": [
    "# Calculate the accuracy score: score\n",
    "score1 = metrics.accuracy_score(y_test, pred1)\n",
    "print(score1)"
   ]
  },
  {
   "cell_type": "markdown",
   "metadata": {
    "colab_type": "text",
    "id": "PcG1oX_MsC-9"
   },
   "source": [
    "#Predicting TEST set"
   ]
  },
  {
   "cell_type": "code",
   "execution_count": null,
   "metadata": {
    "colab": {},
    "colab_type": "code",
    "id": "CJP32jeHp_GJ"
   },
   "outputs": [],
   "source": [
    "# Transform the test data: tfidf_test \n",
    "tfidf_Rtest_TEXT = tfidf_vectorizer_TEXT.transform(test[\"text\"])\n",
    "tfidf_Rtest_TITLE = tfidf_vectorizer_TITLE.transform(test[\"title\"])"
   ]
  },
  {
   "cell_type": "code",
   "execution_count": null,
   "metadata": {
    "colab": {},
    "colab_type": "code",
    "id": "W2XovPg6q6rb"
   },
   "outputs": [],
   "source": [
    "# Create the TfidfVectorizer DataFrame: tfidf_Xtest\n",
    "tfidf_Rtest_TEXT = pd.DataFrame(tfidf_Rtest_TEXT.A, columns=tfidf_vectorizer_TEXT.get_feature_names())\n",
    "tfidf_Rtest_TITLE = pd.DataFrame(tfidf_Rtest_TITLE.A, columns=tfidf_vectorizer_TITLE.get_feature_names())"
   ]
  },
  {
   "cell_type": "code",
   "execution_count": 89,
   "metadata": {
    "colab": {
     "base_uri": "https://localhost:8080/",
     "height": 102
    },
    "colab_type": "code",
    "id": "LqkzSg1mvRJL",
    "outputId": "aab6aa75-402b-49ff-c659-11a9795d9cf6"
   },
   "outputs": [
    {
     "name": "stdout",
     "output_type": "stream",
     "text": [
      "<class 'pandas.core.frame.DataFrame'>\n",
      "RangeIndex: 3172 entries, 0 to 3171\n",
      "Columns: 57144 entries, 00 to zulu\n",
      "dtypes: float64(57144)\n",
      "memory usage: 1.4 GB\n"
     ]
    }
   ],
   "source": [
    "#MERGE training data sets\n",
    "Real_TEST_ds = pd.concat([tfidf_Rtest_TEXT, tfidf_Rtest_TITLE], axis=1)\n",
    "training_ds.info()"
   ]
  },
  {
   "cell_type": "code",
   "execution_count": null,
   "metadata": {
    "colab": {},
    "colab_type": "code",
    "id": "LC4ceKwDvrE6"
   },
   "outputs": [],
   "source": [
    "#Naives Bayes\n",
    "NB_real_prediction=nb_classifier.predict(Real_TEST_ds)"
   ]
  },
  {
   "cell_type": "code",
   "execution_count": null,
   "metadata": {
    "colab": {},
    "colab_type": "code",
    "id": "afFthES5w-gE"
   },
   "outputs": [],
   "source": [
    "#SVM\n",
    "SVM_real_prediction = clf.predict(Real_TEST_ds)"
   ]
  },
  {
   "cell_type": "code",
   "execution_count": null,
   "metadata": {
    "colab": {},
    "colab_type": "code",
    "id": "4vSBDnYrzsEw"
   },
   "outputs": [],
   "source": [
    "final_submission= test[\"ID\"]"
   ]
  },
  {
   "cell_type": "code",
   "execution_count": null,
   "metadata": {
    "colab": {},
    "colab_type": "code",
    "id": "y2hyp5oaz15e"
   },
   "outputs": [],
   "source": [
    "df_svm_results=pd.DataFrame(SVM_real_prediction)"
   ]
  },
  {
   "cell_type": "code",
   "execution_count": null,
   "metadata": {
    "colab": {},
    "colab_type": "code",
    "id": "0XlR6JFIxX69"
   },
   "outputs": [],
   "source": [
    "df_svm_results.columns = [\"prediction\"]"
   ]
  },
  {
   "cell_type": "code",
   "execution_count": null,
   "metadata": {
    "colab": {},
    "colab_type": "code",
    "id": "nVHy8m2s0CGC"
   },
   "outputs": [],
   "source": [
    "final_submission= pd.concat([final_submission, df_svm_results], axis=1)"
   ]
  },
  {
   "cell_type": "code",
   "execution_count": 126,
   "metadata": {
    "colab": {
     "base_uri": "https://localhost:8080/",
     "height": 204
    },
    "colab_type": "code",
    "id": "dsbgpCzh0XSe",
    "outputId": "7451842b-3399-45a9-94ed-2a184c4b2904"
   },
   "outputs": [
    {
     "data": {
      "text/html": [
       "<div>\n",
       "<style scoped>\n",
       "    .dataframe tbody tr th:only-of-type {\n",
       "        vertical-align: middle;\n",
       "    }\n",
       "\n",
       "    .dataframe tbody tr th {\n",
       "        vertical-align: top;\n",
       "    }\n",
       "\n",
       "    .dataframe thead th {\n",
       "        text-align: right;\n",
       "    }\n",
       "</style>\n",
       "<table border=\"1\" class=\"dataframe\">\n",
       "  <thead>\n",
       "    <tr style=\"text-align: right;\">\n",
       "      <th></th>\n",
       "      <th>ID</th>\n",
       "      <th>prediction</th>\n",
       "    </tr>\n",
       "  </thead>\n",
       "  <tbody>\n",
       "    <tr>\n",
       "      <th>0</th>\n",
       "      <td>10498</td>\n",
       "      <td>FAKE</td>\n",
       "    </tr>\n",
       "    <tr>\n",
       "      <th>1</th>\n",
       "      <td>2439</td>\n",
       "      <td>REAL</td>\n",
       "    </tr>\n",
       "    <tr>\n",
       "      <th>2</th>\n",
       "      <td>864</td>\n",
       "      <td>REAL</td>\n",
       "    </tr>\n",
       "    <tr>\n",
       "      <th>3</th>\n",
       "      <td>4128</td>\n",
       "      <td>REAL</td>\n",
       "    </tr>\n",
       "    <tr>\n",
       "      <th>4</th>\n",
       "      <td>662</td>\n",
       "      <td>REAL</td>\n",
       "    </tr>\n",
       "  </tbody>\n",
       "</table>\n",
       "</div>"
      ],
      "text/plain": [
       "      ID prediction\n",
       "0  10498       FAKE\n",
       "1   2439       REAL\n",
       "2    864       REAL\n",
       "3   4128       REAL\n",
       "4    662       REAL"
      ]
     },
     "execution_count": 126,
     "metadata": {
      "tags": []
     },
     "output_type": "execute_result"
    }
   ],
   "source": [
    "final_submission.head()"
   ]
  },
  {
   "cell_type": "code",
   "execution_count": null,
   "metadata": {
    "colab": {},
    "colab_type": "code",
    "id": "ZyuI3p3i0Yxv"
   },
   "outputs": [],
   "source": [
    "final_submission.to_csv(\"/content/drive/My Drive/Colab Notebooks/NLP/Benjamin_Chumaceiro_Max_Franco_final_result.csv\")"
   ]
  },
  {
   "cell_type": "markdown",
   "metadata": {},
   "source": [
    "# Conculsions"
   ]
  },
  {
   "cell_type": "markdown",
   "metadata": {},
   "source": [
    "We can conclude that SVM is the most efficient model for predicting fake news. The highest accuracy score with this model was 0.913. Furthermore, Naive Bayes had a score of 0.81 after tuning the alpha parameters. This is because SVM are more likely to perform better as they can handle non-linearities in the data. Naive Bayes performs best when the features are independent of each other which often does not happen in real."
   ]
  },
  {
   "cell_type": "markdown",
   "metadata": {},
   "source": [
    "## ANNEX and Recomendation"
   ]
  },
  {
   "cell_type": "markdown",
   "metadata": {},
   "source": [
    "In google colab we developed the code below that includes more preprocessing features done with spacy such as Tagging, lemmatization, count of different types of poss-tagging, and others. Due to processing power the computer collapsed many times. For a better score we recommend including this features in the models."
   ]
  },
  {
   "cell_type": "code",
   "execution_count": null,
   "metadata": {},
   "outputs": [],
   "source": [
    "from google.colab import drive\n",
    "drive.mount('/content/drive')\n",
    "\n",
    "import pandas as pd\n",
    "from sklearn.feature_extraction.text import TfidfVectorizer\n",
    "import spacy\n",
    "from spacy.lang.en import English\n",
    "import re\n",
    "import matplotlib.pyplot as plt\n",
    "import seaborn as sns\n",
    "from sklearn.preprocessing import MinMaxScaler\n",
    "from sklearn.model_selection import train_test_split\n",
    "\n",
    "nlp = spacy.load('en')\n",
    "\n",
    "#Import Data\n",
    "train = pd.read_csv(\"/content/drive/My Drive/Colab Notebooks/NLP/fake_or_real_news_training.csv\")\n",
    "test = pd.read_csv(\"/content/drive/My Drive/Colab Notebooks/NLP/fake_or_real_news_test.csv\")\n",
    "\n",
    "#checking columns\n",
    "train.info()\n",
    "\n",
    "#checking columns\n",
    "test.info()\n",
    "\n",
    "# Cleaning Train set\n",
    "\n",
    "We checked why we have the 2 extra columns in train set\n",
    "\n",
    "train[(pd.notnull(train['X1'])) | (pd.notnull(train['X2']))].info()\n",
    "\n",
    "Since there are only 33 rows which have this issue, we decided to drop them\n",
    " \n",
    "\n",
    "#drop rows with issues\n",
    "train = train.drop(train[(train[\"label\"] != \"REAL\") & (train[\"label\"] != \"FAKE\")].index)\n",
    "#drop columns X1 & X2\n",
    "train = train.drop(columns=[\"X1\",\"X2\"])\n",
    "\n",
    "\n",
    "#Concatenate Datasets in order to do feature engineering\n",
    "df = pd.concat([train, test])\n",
    "\n",
    "## Preprocessing\n",
    "\n",
    "#Finding the lenght of the Titles\n",
    "df[\"len_title\"] = df[\"title\"].apply(lambda x: len(x))\n",
    "\n",
    "df[df['label']== \"REAL\"].describe()\n",
    "\n",
    "df[df['label']== \"FAKE\"].describe()\n",
    "\n",
    "## Lemmatization\n",
    "\n",
    "\n",
    "Tokenize Text & Titles\n",
    "\n",
    "df[\"title_token\"] = df['title'].apply(lambda x: nlp(x))\n",
    "df[\"text_token\"] = df['text'].apply(lambda x: nlp(x))\n",
    "\n",
    "# BREAK- RUN FROM HERE\n",
    "\n",
    "#now we lemmatized\n",
    "df[\"title_lemma\"] = df[\"title_token\"].apply(lambda x: \" \".join([t.lemma_ for t in x]))\n",
    "df[\"text_lemma\"] = df[\"text_token\"].apply(lambda x: \" \".join([t.lemma_ for t in x]))\n",
    "\n",
    "df.head()\n",
    "\n",
    "We want to get rid of the special char\n",
    "\n",
    "def del_special_char(x):\n",
    "  \"\"\"\n",
    "  Keeps only alpha, digit & pronouns \n",
    "\n",
    "  \"\"\"\n",
    "  word_list = list()\n",
    "  for word in x.split():\n",
    "    if word.isdigit() or word.isalpha() or word == \"-PRON-\":\n",
    "      word_list.append(word)\n",
    "  return ' '.join(word_list)\n",
    "\n",
    "#Delete special characters\n",
    "df[\"title_lemma_no_spchar\"] = df[\"title_lemma\"].apply(lambda x: del_special_char(x))\n",
    "df[\"text_lemma_no_spchar\"] = df[\"text_lemma\"].apply(lambda x: del_special_char(x))\n",
    "\n",
    "df.head()\n",
    "\n",
    "#Create columns with length without special characters\n",
    "df[\"title_lemma_no_spchar_len\"] = df[\"title_lemma_no_spchar\"].apply(lambda x: len(x.split()))\n",
    "df[\"text_lemma_no_spchar_len\"] = df[\"text_lemma_no_spchar\"].apply(lambda x: len(x.split()))\n",
    "\n",
    "df.head()\n",
    "\n",
    "#NLP in order to postag without special characters -gave up on using this because it crashed becaause of lack of ram\n",
    "#df['title_nlp_nosp'] = df['text_lemma_no_spchar'].apply(lambda x: nlp(x))\n",
    "#@df['text_nlp_nosp'] = df['text_lemma_no_spchar'].apply(lambda x: nlp(x))\n",
    "\n",
    "Tags and Counts\n",
    "\n",
    "#Postagging - gave up on using this because it crashed becaause of lack of ram\n",
    "#df[\"title_post_tag\"] = df[\"title_nlp_nosp\"].apply(lambda x: [tag.pos_ for tag in x])\n",
    "#df[\"text_posy_tag\"] = df[\"text_nlp_nosp\"].apply(lambda x: [tag.pos_ for tag in x])\n",
    "\n",
    "#Postagging 2.0 \n",
    "df[\"title_post_tag\"] = df[\"title_token\"].apply(lambda x: [tag.pos_ for tag in x])\n",
    "df[\"text_post_tag\"] = df[\"text_token\"].apply(lambda x: [tag.pos_ for tag in x])\n",
    "\n",
    "df.head(3)\n",
    "\n",
    "#counting postags\n",
    "df[\"noun_count_title\"] = df[\"title_post_tag\"].apply(lambda x: x.count(\"NOUN\"))\n",
    "df[\"adj_count_title\"] = df[\"title_post_tag\"].apply(lambda x: x.count(\"ADJ\"))\n",
    "df[\"verb_count_title\"] = df[\"title_post_tag\"].apply(lambda x: x.count(\"VERB\"))\n",
    "df[\"pron_count_title\"] = df[\"title_post_tag\"].apply(lambda x: x.count(\"PROPN\"))\n",
    "df[\"num_count_title\"] = df[\"title_post_tag\"].apply(lambda x: x.count(\"NUM\"))\n",
    "\n",
    "df[\"noun_count_text\"] = df[\"text_post_tag\"].apply(lambda x: x.count(\"NOUN\"))\n",
    "df[\"adj_count_text\"] = df[\"text_post_tag\"].apply(lambda x: x.count(\"ADJ\"))\n",
    "df[\"verb_count_text\"] = df[\"text_post_tag\"].apply(lambda x: x.count(\"VERB\"))\n",
    "df[\"pron_count_text\"] = df[\"text_post_tag\"].apply(lambda x: x.count(\"PROPN\"))\n",
    "df[\"num_count_text\"] = df[\"text_post_tag\"].apply(lambda x: x.count(\"NUM\"))\n",
    "\n",
    "df.head(3)\n",
    "\n",
    "df.columns\n",
    "\n",
    "Eliminate Useless columns\n",
    "\n",
    "df1 = df.drop(columns =['text', 'title', 'title_token',\n",
    "       'text_token', 'title_lemma', 'text_lemma',\n",
    "       'title_post_tag', 'text_post_tag'])\n",
    "\n",
    "\n",
    "df1.head(3)\n",
    "\n",
    "Separate train & test datasets\n",
    "\n",
    "df_test = df1[df1[\"label\"].isnull()]\n",
    "df_train = df1[df1[\"label\"].notnull()]\n",
    "\n",
    "df_test.head(2)\n",
    "\n",
    "df_train.head(2)\n",
    "\n",
    "# Initialize a TfidfVectorizer object: tfidf_vectorizer\n",
    "title_vec = TfidfVectorizer(stop_words=\"english\", max_df=0.7)\n",
    "\n",
    "# Create a series to store the labels: y\n",
    "y = df_train[\"label\"]\n",
    "#df_train = df_train.drop(columns=[\"label\"])\n",
    "\n",
    "# Transform the training data: title\n",
    "tfidf_title_train= title_vec.fit_transform(df_train[\"title_lemma_no_spchar\"])\n",
    "\n",
    "# Create the TfidfVectorizer DataFrame: tfidf_title_train\n",
    "df_title_train = pd.DataFrame(data=tfidf_title_train.toarray() , \n",
    "                              columns= title_vec.get_feature_names())\n",
    "\n",
    "# Crashes too big\n",
    "# Initialize a TfidfVectorizer object:  text\n",
    "text_vec = TfidfVectorizer(ngram_range=(1,2))\n",
    "\n",
    "# Crashes too big\n",
    "# Transform the training data: text\n",
    "tfidf_text_train= text_vec.fit_transform(df_train[\"text_lemma_no_spchar\"])\n",
    "\n",
    "# Crashes too big\n",
    "# Create the TfidfVectorizer DataFrame: tfidf_text_train \n",
    "#df_text_train = pd.DataFrame(data=tfidf_text_train.toarray() , \n",
    "#                              columns= text_vec.get_feature_names())\n",
    "\n"
   ]
  }
 ],
 "metadata": {
  "accelerator": "GPU",
  "colab": {
   "collapsed_sections": [],
   "name": "Copy of FakeNews_Benja_Max.ipynb",
   "provenance": [],
   "toc_visible": true
  },
  "kernelspec": {
   "display_name": "Python 3",
   "language": "python",
   "name": "python3"
  },
  "language_info": {
   "codemirror_mode": {
    "name": "ipython",
    "version": 3
   },
   "file_extension": ".py",
   "mimetype": "text/x-python",
   "name": "python",
   "nbconvert_exporter": "python",
   "pygments_lexer": "ipython3",
   "version": "3.7.3"
  }
 },
 "nbformat": 4,
 "nbformat_minor": 4
}
